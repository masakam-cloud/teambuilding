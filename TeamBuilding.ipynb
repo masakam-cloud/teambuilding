{
 "cells": [
  {
   "cell_type": "markdown",
   "id": "06a9c5ad",
   "metadata": {},
   "source": [
    "# CPLEX Examples - Teambuilding\n",
    "###　既知の情報\n",
    "a). 参加社員は60人で、10部屋（1部屋6人）に割り振る。\n",
    "b). 新入社員は偶数、既存社員は奇数で、各人を0〜59の数字で表す。\n",
    "c). 部署に所属する社員は以下の通りである。\n",
    " 部署        社員番号\n",
    "  A          0-19 \n",
    "  B          20-39 \n",
    "  C          40-44\n",
    "  D          45-49\n",
    "  E          50-54\n",
    "  F          55-59\n",
    "d). 既存社員が指導できるのは新入社員1人だけである。\n",
    "e). 部署Aでは、アドバイザー/新入社員のペアは0-1、2-3、4-5、6-7、8-9、10-11 \n",
    "f). 部署Bでは、アドバイザー/新入社員のペアは20-21、22-23、24-25、26-27、28-29、30-31\n",
    "g). 部署C,D,E,Fでは、アドバイザー/新入社員は40-41, 42-43, 45-46, 47-48, 50-51, 52-53, 55-56, 57-58\n",
    "\n",
    "### 制約条件\n",
    "1. 1つの部屋には、既存社員3人と新入社員3人が入る。\n",
    "2. 同じ部署から最大4人が参加しなければならない。\n",
    "3. 部署AとBの社員は同じ部屋には入れない。\n",
    "4. 部署EとFの社員は同じ部屋には入れない。\n",
    "5. 新入社員は、その担当アドバイザーと同じ部屋でなくてはならない。\n",
    "6. 社員5は、社員41または社員51のどちらかと同じ部屋でなくてはならない。\n",
    "7. 社員15は、社員40か社員51のどちらかと同じ部屋でなくてはならない。\n",
    "8. 社員25は、社員40か社員50のどちらかと同じ部屋でなくてはならない。\n",
    "9. 社員20は社員24と同じ部屋か、社員22は社員50と同じ部屋でなくてはならない。"
   ]
  },
  {
   "cell_type": "markdown",
   "id": "4062cd2f",
   "metadata": {},
   "source": [
    "## Step1: ライブラリのダウンロード\n",
    "最初にdocplexをインストールする必要があります。"
   ]
  },
  {
   "cell_type": "code",
   "execution_count": 16,
   "id": "e1dab399",
   "metadata": {},
   "outputs": [],
   "source": [
    "import sys\n",
    "try:\n",
    "    import docplex.cp\n",
    "except:\n",
    "    if hasattr(sys, 'real_prefix'):\n",
    "        #we are in a virtual env.\n",
    "        !conda install -y docplex\n",
    "    else:\n",
    "        !conda install -y --user docplex"
   ]
  },
  {
   "cell_type": "markdown",
   "id": "d0da2841",
   "metadata": {},
   "source": [
    "### ライブラリのインポート"
   ]
  },
  {
   "cell_type": "code",
   "execution_count": 17,
   "id": "ebbdb45d",
   "metadata": {},
   "outputs": [],
   "source": [
    "from sys import stdout\n",
    "from collections import namedtuple\n",
    "from docplex.cp.model import *"
   ]
  },
  {
   "cell_type": "markdown",
   "id": "ae6dd65b",
   "metadata": {},
   "source": [
    "## Step2: エンジン（ソルバー）の設定\n",
    "* Subscribe to our private cloud offer or Decision Optimization on Cloud solve service [here](https://developer.ibm.com/docloud) if you do not want to use a local solver.\n",
    "* Get the service URL and your personal API key and enter your credentials here if accurate:\n",
    "* ローカルのソルバーを使用したくない場合は、[こちら](https://developer.ibm.com/docloud) で、弊社のプライベートクラウドオファーまたはDecision Optimization on Cloud solve serviceを購入してください。\n",
    "* サービスのURLと個人のAPIキーを取得し、正確であればここで認証情報を入力します:"
   ]
  },
  {
   "cell_type": "code",
   "execution_count": 18,
   "id": "7533e4e2",
   "metadata": {},
   "outputs": [],
   "source": [
    "url = None\n",
    "key = None"
   ]
  },
  {
   "cell_type": "markdown",
   "id": "e4dda31c",
   "metadata": {},
   "source": [
    "## Step3: モデルの設定\n",
    "### パラメータの設定\n",
    "モデルのすべてのオブジェクトは、1つのモデルインスタンスに属しています。\n",
    "まず、問題のパラメータを設定します。\n",
    "社員は６０人、部屋は１０個です。(a)"
   ]
  },
  {
   "cell_type": "code",
   "execution_count": 19,
   "id": "67770a0b",
   "metadata": {
    "scrolled": true
   },
   "outputs": [
    {
     "name": "stdout",
     "output_type": "stream",
     "text": [
      "persons  [0, 1, 2, 3, 4, 5, 6, 7, 8, 9, 10, 11, 12, 13, 14, 15, 16, 17, 18, 19, 20, 21, 22, 23, 24, 25, 26, 27, 28, 29, 30, 31, 32, 33, 34, 35, 36, 37, 38, 39, 40, 41, 42, 43, 44, 45, 46, 47, 48, 49, 50, 51, 52, 53, 54, 55, 56, 57, 58, 59]\n",
      "rooms  [1, 2, 3, 4, 5, 6, 7, 8, 9, 10]\n"
     ]
    }
   ],
   "source": [
    "nb_persons = 60\n",
    "persons = range(nb_persons)\n",
    "print(\"persons \", list(persons))\n",
    "\n",
    "nb_rooms = 10\n",
    "rooms = range(1, nb_rooms+1)\n",
    "print(\"rooms \", list(rooms))"
   ]
  },
  {
   "cell_type": "markdown",
   "id": "aac973a9",
   "metadata": {},
   "source": [
    "社員はA から F までの 6 つの異なる部署に従事しています。"
   ]
  },
  {
   "cell_type": "code",
   "execution_count": 20,
   "id": "b4f3cec7",
   "metadata": {
    "scrolled": true
   },
   "outputs": [
    {
     "name": "stdout",
     "output_type": "stream",
     "text": [
      "serviceNames  ['A', 'B', 'C', 'D', 'E', 'F']\n",
      "0\n"
     ]
    }
   ],
   "source": [
    "serviceNames = [chr(i) for i in range(65,65+6)]\n",
    "\n",
    "print(\"serviceNames \",list(serviceNames))\n",
    "print(serviceNames.index('A'))"
   ]
  },
  {
   "cell_type": "markdown",
   "id": "bd819c14",
   "metadata": {},
   "source": [
    "社員には0番から59番までの番号がついてています。新入社員の番号は偶数、既存社員の番号は奇数です。6つの異なる部署と所属する社員の番号を設定します。(b, c)"
   ]
  },
  {
   "cell_type": "code",
   "execution_count": 21,
   "id": "db209ea8",
   "metadata": {
    "scrolled": true
   },
   "outputs": [
    {
     "name": "stdout",
     "output_type": "stream",
     "text": [
      "service  [{0, 1, 2, 3, 4, 5, 6, 7, 8, 9, 10, 11, 12, 13, 14, 15, 16, 17, 18, 19}, {20, 21, 22, 23, 24, 25, 26, 27, 28, 29, 30, 31, 32, 33, 34, 35, 36, 37, 38, 39}, {40, 41, 42, 43, 44}, {45, 46, 47, 48, 49}, {50, 51, 52, 53, 54}, {55, 56, 57, 58, 59}]\n",
      "{0, 1, 2, 3, 4, 5, 6, 7, 8, 9, 10, 11, 12, 13, 14, 15, 16, 17, 18, 19}\n"
     ]
    }
   ],
   "source": [
    "a = range(0,20) \n",
    "b = range(20,40)\n",
    "c = range(40,45)\n",
    "d = range(45,50)\n",
    "e = range(50,55)\n",
    "f = range(55,60)\n",
    "service = [set(a), set(b), set(c), set(d), set(e), set(f)]\n",
    "print(\"service \",service)\n",
    "print(service[serviceNames.index('A')])"
   ]
  },
  {
   "cell_type": "markdown",
   "id": "b36c0dbe",
   "metadata": {},
   "source": [
    "アドバイザーと新入社員のペア(d)\n",
    "e). 部署Aでは、アドバイザー/新入社員のペアは0-1、2-3、4-5、6-7、8-9、10-11 \n",
    "f). 部署Bでは、アドバイザー/新入社員のペアは20-21、22-23、24-25、26-27、28-29、30-31\n",
    "g). 部署C,D,E,Fでは、アドバイザー/新入社員は40-41, 42-43, 45-46, 47-48, 50-51, 52-53, 55-56, 57-58"
   ]
  },
  {
   "cell_type": "code",
   "execution_count": 22,
   "id": "0e7c2013",
   "metadata": {
    "scrolled": true
   },
   "outputs": [
    {
     "name": "stdout",
     "output_type": "stream",
     "text": [
      "[pair(advisor=0, advised=1), pair(advisor=2, advised=3), pair(advisor=4, advised=5), pair(advisor=6, advised=7), pair(advisor=8, advised=9), pair(advisor=10, advised=11), pair(advisor=20, advised=21), pair(advisor=22, advised=23), pair(advisor=24, advised=25), pair(advisor=26, advised=27), pair(advisor=28, advised=29), pair(advisor=30, advised=31), pair(advisor=40, advised=41), pair(advisor=42, advised=43), pair(advisor=45, advised=46), pair(advisor=47, advised=48), pair(advisor=50, advised=51), pair(advisor=52, advised=53), pair(advisor=55, advised=56), pair(advisor=57, advised=58)]\n"
     ]
    }
   ],
   "source": [
    "pair = namedtuple(\"pair\", [\"advisor\", \"advised\"])\n",
    "pairs = [pair(0, 1), pair(2, 3), pair(4, 5), pair(6, 7), pair(8, 9), pair(10, 11), \n",
    "         pair(20, 21), pair(22, 23), pair(24, 25), pair(26, 27), pair(28, 29), pair(30, 31),\n",
    "         pair(40, 41), pair(42, 43), pair(45, 46), pair(47, 48), pair(50, 51), pair(52, 53), pair(55, 56), pair(57, 58)]\n",
    "print(pairs)"
   ]
  },
  {
   "cell_type": "markdown",
   "id": "e0d9acb8",
   "metadata": {},
   "source": [
    "### モデルを定義"
   ]
  },
  {
   "cell_type": "code",
   "execution_count": 23,
   "id": "8c7d71c9",
   "metadata": {},
   "outputs": [],
   "source": [
    "mdl = CpoModel(name='teambuilding')"
   ]
  },
  {
   "cell_type": "markdown",
   "id": "5eb78706",
   "metadata": {},
   "source": [
    "### 決定変数を定義。\n",
    "各社員が所属する部屋の番号をroomという変数名で定義します。"
   ]
  },
  {
   "cell_type": "code",
   "execution_count": 24,
   "id": "111bff1e",
   "metadata": {},
   "outputs": [],
   "source": [
    "room = mdl.integer_var_list(size=nb_persons, min=list(rooms)[0], max=list(rooms)[-1], name='person')"
   ]
  },
  {
   "cell_type": "markdown",
   "id": "d0016a64",
   "metadata": {},
   "source": [
    "### 制約条件の設定\n",
    "1. 1つの部屋には、既存社員3人と新入社員3人が入る。\n",
    "2. 同じ部署から最大4人が参加しなければならない。"
   ]
  },
  {
   "cell_type": "code",
   "execution_count": 25,
   "id": "e541d5d4",
   "metadata": {},
   "outputs": [],
   "source": [
    "for t in rooms:\n",
    "    # 1部屋の既存社員は3人（1）\n",
    "    l_existingemployee = [room[existingemployee] for existingemployee in persons if existingemployee%2==1]\n",
    "    mdl.add(mdl.count(l_existingemployee, t)==3)\n",
    "    # 1部屋の新入社員は3人（1）\n",
    "    l_newemployee = [room[newemployee] for newemployee in persons if newemployee%2==0]\n",
    "    mdl.add(mdl.count(l_newemployee, t)==3)\n",
    "    # 同じ部署から最大4人が参加（2）\n",
    "    for f in range(len(serviceNames)):\n",
    "        l_person = [room[person] for person in service[f]]\n",
    "        mdl.add(mdl.count(l_person, t)<=4)"
   ]
  },
  {
   "cell_type": "markdown",
   "id": "24232ecf",
   "metadata": {},
   "source": [
    "3. 部署AとBの社員は同じ部屋には入れない。\n",
    "4. 部署EとFの社員は同じ部屋には入れない。\n",
    "5. 新入社員は、その担当アドバイザーと同じ部屋でなくてはならない。\n",
    "6. 社員5は、社員41または社員51のどちらかと同じ部屋でなくてはならない。\n",
    "7. 社員15は、社員40か社員51のどちらかと同じ部屋でなくてはならない。\n",
    "8. 社員25は、社員40か社員50のどちらかと同じ部屋でなくてはならない。\n",
    "9. 社員20は社員24と同じ部屋か、社員22は社員50と同じ部屋でなくてはならない。\n"
   ]
  },
  {
   "cell_type": "code",
   "execution_count": 26,
   "id": "762eb177",
   "metadata": {},
   "outputs": [],
   "source": [
    "# 部署AとBの社員は同じ部屋には入れない。(3)\n",
    "for pA in service[serviceNames.index('A')]:\n",
    "    for pB in service[serviceNames.index('B')]:\n",
    "        mdl.add_constraint(room[pA] != room[pB])\n",
    "\n",
    "# 部署EとFの社員は同じ部屋には入れない。(4)\n",
    "for pE in service[serviceNames.index('E')]:\n",
    "    for pF in service[serviceNames.index('F')]:\n",
    "        mdl.add_constraint(room[pE] != room[pF])\n",
    "\n",
    "# 新入社員は、その担当アドバイザーと同じ部屋でなくてはならない。(5)\n",
    "for a in pairs:\n",
    "    mdl.add(room[a.advisor]==room[a.advised])\n",
    "\n",
    "# 社員5は、社員41または社員51のどちらかと同じ部屋でなくてはならない。(6)\n",
    "mdl.add((room[5]==room[41]) | (room[5]==room[51]))\n",
    "\n",
    "# 社員15は、社員40か社員51のどちらかと同じ部屋でなくてはならない。(7)\n",
    "mdl.add((room[15]==room[40]) | (room[15]==room[51])) \n",
    "\n",
    "# 社員25は、社員40か社員50のどちらかと同じ部屋でなくてはならない。(8)\n",
    "mdl.add((room[25]==room[40]) | (room[25]==room[50]))  \n",
    "\n",
    "# 社員20は社員24と同じ部屋か、社員22は社員50と同じ部屋でなくてはならない。(9)\n",
    "mdl.add((room[20]==room[24]) | (room[22]==room[50]))\n"
   ]
  },
  {
   "cell_type": "markdown",
   "id": "01c93b23",
   "metadata": {},
   "source": [
    "モデルの概要を表示"
   ]
  },
  {
   "cell_type": "code",
   "execution_count": 27,
   "id": "7392b45d",
   "metadata": {
    "scrolled": false
   },
   "outputs": [
    {
     "name": "stdout",
     "output_type": "stream",
     "text": [
      "Model: teambuilding\n",
      " - source file: <ipython-input-23-7676d5bec454>\n",
      " - modeling time: 0.05 sec\n",
      " - number of integer variables:  60\n",
      " - number of interval variables: 0\n",
      " - number of sequence variables: 0\n",
      " - number of state functions:    0\n",
      " - number of float variables:    0\n",
      " - number of constraints:        529\n",
      " - number of root expressions:   529\n",
      " - number of expression nodes:   845\n",
      " - operations:                   count: 80, diff: 425, equal: 48, lessOrEqual: 60, or: 4\n"
     ]
    }
   ],
   "source": [
    "mdl.print_information()"
   ]
  },
  {
   "cell_type": "markdown",
   "id": "c82906d7",
   "metadata": {},
   "source": [
    "問題を解く"
   ]
  },
  {
   "cell_type": "code",
   "execution_count": 28,
   "id": "a332f0b9",
   "metadata": {},
   "outputs": [
    {
     "name": "stdout",
     "output_type": "stream",
     "text": [
      "\n",
      "Solving model....\n",
      " ! --------------------------------------------------- CP Optimizer 20.1.0.0 --\n",
      " ! Satisfiability problem - 60 variables, 529 constraints\n",
      " ! Presolve      : 80 extractables eliminated, 8 constraints generated\n",
      " ! TimeLimit            = 10\n",
      " ! RandomSeed           = 1\n",
      " ! Initial process time : 0.04s (0.03s extraction + 0.01s propagation)\n",
      " !  . Log search space  : 132.9 (before), 132.9 (after)\n",
      " !  . Memory usage      : 397.2 kB (before), 397.2 kB (after)\n",
      " ! Using parallel search with 8 workers.\n",
      " ! ----------------------------------------------------------------------------\n",
      " !               Branches  Non-fixed    W       Branch decision\n",
      " *                    123  0.06s        1         3  = person_55\n",
      " ! ----------------------------------------------------------------------------\n",
      " ! Search completed, 1 solution found.\n",
      " ! ----------------------------------------------------------------------------\n",
      " ! Number of branches     : 1148\n",
      " ! Number of fails        : 443\n",
      " ! Total memory usage     : 5.7 MB (5.7 MB CP Optimizer + 0.0 MB Concert)\n",
      " ! Time spent in solve    : 0.06s (0.03s engine + 0.03s extraction)\n",
      " ! Search speed (br. / s) : 38266.7\n",
      " ! ----------------------------------------------------------------------------\n"
     ]
    }
   ],
   "source": [
    "print(\"\\nSolving model....\")\n",
    "msol = mdl.solve(agent='local',TimeLimit=10, RandomSeed=1)"
   ]
  },
  {
   "cell_type": "code",
   "execution_count": 29,
   "id": "197c3489",
   "metadata": {},
   "outputs": [
    {
     "name": "stdout",
     "output_type": "stream",
     "text": [
      "Solve status: Feasible\n",
      "Solve time: 0.0599999\n"
     ]
    }
   ],
   "source": [
    "print(\"Solve status: \" + msol.get_solve_status())\n",
    "if msol.is_solution():\n",
    "    stdout.write(\"Solve time: \" + str(msol.get_solve_time()) + \"\\n\")\n",
    "else:\n",
    "    stdout.write(\"No solution found\\n\")"
   ]
  },
  {
   "cell_type": "markdown",
   "id": "30b8e63b",
   "metadata": {},
   "source": [
    "結果の表示"
   ]
  },
  {
   "cell_type": "code",
   "execution_count": 30,
   "id": "273afa28",
   "metadata": {},
   "outputs": [
    {
     "name": "stdout",
     "output_type": "stream",
     "text": [
      "-------------------------------------------------------------------------------\n",
      "Model constraints: 529, variables: integer: 60, interval: 0, sequence: 0\n",
      "Solve status: Feasible\n",
      "Search status: SearchCompleted, stop cause: SearchHasNotBeenStopped\n",
      "Solve time: 0.06 sec\n",
      "-------------------------------------------------------------------------------\n",
      "Variables:\n",
      "   person_0 = 5\n",
      "   person_1 = 5\n",
      "   person_2 = 5\n",
      "   person_3 = 5\n",
      "   person_4 = 2\n",
      "   person_5 = 2\n",
      "   person_6 = 10\n",
      "   person_7 = 10\n",
      "   person_8 = 6\n",
      "   person_9 = 6\n",
      "   person_10 = 1\n",
      "   person_11 = 1\n",
      "   person_12 = 2\n",
      "   person_13 = 1\n",
      "   person_14 = 10\n",
      "   person_15 = 2\n",
      "   person_16 = 1\n",
      "   person_17 = 6\n",
      "   person_18 = 6\n",
      "   person_19 = 10\n",
      "   person_20 = 8\n",
      "   person_21 = 8\n",
      "   person_22 = 9\n",
      "   person_23 = 9\n",
      "   person_24 = 8\n",
      "   person_25 = 8\n",
      "   person_26 = 3\n",
      "   person_27 = 3\n",
      "   person_28 = 3\n",
      "   person_29 = 3\n",
      "   person_30 = 7\n",
      "   person_31 = 7\n",
      "   person_32 = 9\n",
      "   person_33 = 7\n",
      "   person_34 = 4\n",
      "   person_35 = 4\n",
      "   person_36 = 7\n",
      "   person_37 = 4\n",
      "   person_38 = 9\n",
      "   person_39 = 4\n",
      "   person_40 = 2\n",
      "   person_41 = 2\n",
      "   person_42 = 5\n",
      "   person_43 = 5\n",
      "   person_44 = 4\n",
      "   person_45 = 10\n",
      "   person_46 = 10\n",
      "   person_47 = 6\n",
      "   person_48 = 6\n",
      "   person_49 = 9\n",
      "   person_50 = 8\n",
      "   person_51 = 8\n",
      "   person_52 = 7\n",
      "   person_53 = 7\n",
      "   person_54 = 4\n",
      "   person_55 = 3\n",
      "   person_56 = 3\n",
      "   person_57 = 1\n",
      "   person_58 = 1\n",
      "   person_59 = 9\n"
     ]
    }
   ],
   "source": [
    "msol.print_solution()"
   ]
  }
 ],
 "metadata": {
  "kernelspec": {
   "display_name": "Python 3",
   "language": "python",
   "name": "python3"
  },
  "language_info": {
   "codemirror_mode": {
    "name": "ipython",
    "version": 3
   },
   "file_extension": ".py",
   "mimetype": "text/x-python",
   "name": "python",
   "nbconvert_exporter": "python",
   "pygments_lexer": "ipython3",
   "version": "3.8.5"
  }
 },
 "nbformat": 4,
 "nbformat_minor": 5
}
